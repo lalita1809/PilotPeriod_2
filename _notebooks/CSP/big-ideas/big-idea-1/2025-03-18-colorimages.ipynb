{
 "cells": [
  {
   "cell_type": "markdown",
   "metadata": {},
   "source": [
    "---\n",
    "layout: post\n",
    "title: Big Idea 1.3 - Color Codes/Images/Base64\n",
    "description: \n",
    "categories: [Python]\n",
    "author: Rhea Rajashekhar\n",
    "---"
   ]
  }
 ],
 "metadata": {
  "language_info": {
   "name": "python"
  }
 },
 "nbformat": 4,
 "nbformat_minor": 2
}
